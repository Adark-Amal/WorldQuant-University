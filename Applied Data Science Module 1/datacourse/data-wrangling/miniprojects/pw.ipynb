{
 "cells": [
  {
   "cell_type": "code",
   "execution_count": 2,
   "metadata": {
    "init_cell": true
   },
   "outputs": [],
   "source": [
    "%logstop\n",
    "%logstart -rtq ~/.logs/pw.py append\n",
    "%matplotlib inline\n",
    "import matplotlib\n",
    "import seaborn as sns\n",
    "sns.set()\n",
    "matplotlib.rcParams['figure.dpi'] = 144"
   ]
  },
  {
   "cell_type": "code",
   "execution_count": 3,
   "metadata": {},
   "outputs": [],
   "source": [
    "from static_grader import grader"
   ]
  },
  {
   "cell_type": "markdown",
   "metadata": {},
   "source": [
    "# PW Miniproject\n",
    "## Introduction\n",
    "\n",
    "The objective of this miniproject is to exercise your ability to use basic Python data structures, define functions, and control program flow. We will be using these concepts to perform some fundamental data wrangling tasks such as joining data sets together, splitting data into groups, and aggregating data into summary statistics.\n",
    "**Please do not use `pandas` or `numpy` to answer these questions.**\n",
    "\n",
    "We will be working with medical data from the British NHS on prescription drugs. Since this is real data, it contains many ambiguities that we will need to confront in our analysis. This is commonplace in data science, and is one of the lessons you will learn in this miniproject."
   ]
  },
  {
   "cell_type": "markdown",
   "metadata": {},
   "source": [
    "## Downloading the data\n",
    "\n",
    "We first need to download the data we'll be using from Amazon S3:"
   ]
  },
  {
   "cell_type": "code",
   "execution_count": 4,
   "metadata": {},
   "outputs": [
    {
     "name": "stderr",
     "output_type": "stream",
     "text": [
      "--2020-08-09 15:43:51--  http://dataincubator-wqu.s3.amazonaws.com/pwdata/201701scripts_sample.json.gz\n",
      "Resolving dataincubator-wqu.s3.amazonaws.com (dataincubator-wqu.s3.amazonaws.com)... 52.216.84.115\n",
      "Connecting to dataincubator-wqu.s3.amazonaws.com (dataincubator-wqu.s3.amazonaws.com)|52.216.84.115|:80... connected.\n",
      "HTTP request sent, awaiting response... 200 OK\n",
      "Length: 10367709 (9.9M) [application/json]\n",
      "Saving to: ‘./pw-data/201701scripts_sample.json.gz’\n",
      "\n",
      "     0K .......... .......... .......... .......... ..........  0% 11.5M 1s\n",
      "    50K .......... .......... .......... .......... ..........  0% 17.1M 1s\n",
      "   100K .......... .......... .......... .......... ..........  1% 20.1M 1s\n",
      "   150K .......... .......... .......... .......... ..........  1% 49.5M 1s\n",
      "   200K .......... .......... .......... .......... ..........  2% 30.0M 0s\n",
      "   250K .......... .......... .......... .......... ..........  2% 51.0M 0s\n",
      "   300K .......... .......... .......... .......... ..........  3% 46.4M 0s\n",
      "   350K .......... .......... .......... .......... ..........  3% 58.5M 0s\n",
      "   400K .......... .......... .......... .......... ..........  4% 50.0M 0s\n",
      "   450K .......... .......... .......... .......... ..........  4% 54.0M 0s\n",
      "   500K .......... .......... .......... .......... ..........  5% 71.4M 0s\n",
      "   550K .......... .......... .......... .......... ..........  5% 43.4M 0s\n",
      "   600K .......... .......... .......... .......... ..........  6% 34.0M 0s\n",
      "   650K .......... .......... .......... .......... ..........  6% 46.7M 0s\n",
      "   700K .......... .......... .......... .......... ..........  7%  150M 0s\n",
      "   750K .......... .......... .......... .......... ..........  7% 33.2M 0s\n",
      "   800K .......... .......... .......... .......... ..........  8% 74.3M 0s\n",
      "   850K .......... .......... .......... .......... ..........  8%  159M 0s\n",
      "   900K .......... .......... .......... .......... ..........  9% 53.3M 0s\n",
      "   950K .......... .......... .......... .......... ..........  9%  107M 0s\n",
      "  1000K .......... .......... .......... .......... .......... 10%  211M 0s\n",
      "  1050K .......... .......... .......... .......... .......... 10% 59.8M 0s\n",
      "  1100K .......... .......... .......... .......... .......... 11% 57.2M 0s\n",
      "  1150K .......... .......... .......... .......... .......... 11% 89.3M 0s\n",
      "  1200K .......... .......... .......... .......... .......... 12%  139M 0s\n",
      "  1250K .......... .......... .......... .......... .......... 12% 53.0M 0s\n",
      "  1300K .......... .......... .......... .......... .......... 13% 94.3M 0s\n",
      "  1350K .......... .......... .......... .......... .......... 13% 45.5M 0s\n",
      "  1400K .......... .......... .......... .......... .......... 14%  326M 0s\n",
      "  1450K .......... .......... .......... .......... .......... 14% 36.6M 0s\n",
      "  1500K .......... .......... .......... .......... .......... 15% 56.9M 0s\n",
      "  1550K .......... .......... .......... .......... .......... 15%  106M 0s\n",
      "  1600K .......... .......... .......... .......... .......... 16%  239M 0s\n",
      "  1650K .......... .......... .......... .......... .......... 16%  384M 0s\n",
      "  1700K .......... .......... .......... .......... .......... 17%  220M 0s\n",
      "  1750K .......... .......... .......... .......... .......... 17%  198M 0s\n",
      "  1800K .......... .......... .......... .......... .......... 18%  213M 0s\n",
      "  1850K .......... .......... .......... .......... .......... 18%  260M 0s\n",
      "  1900K .......... .......... .......... .......... .......... 19% 36.7M 0s\n",
      "  1950K .......... .......... .......... .......... .......... 19% 47.2M 0s\n",
      "  2000K .......... .......... .......... .......... .......... 20% 38.7M 0s\n",
      "  2050K .......... .......... .......... .......... .......... 20% 37.9M 0s\n",
      "  2100K .......... .......... .......... .......... .......... 21% 34.8M 0s\n",
      "  2150K .......... .......... .......... .......... .......... 21% 38.6M 0s\n",
      "  2200K .......... .......... .......... .......... .......... 22% 40.6M 0s\n",
      "  2250K .......... .......... .......... .......... .......... 22% 54.9M 0s\n",
      "  2300K .......... .......... .......... .......... .......... 23% 76.6M 0s\n",
      "  2350K .......... .......... .......... .......... .......... 23% 61.8M 0s\n",
      "  2400K .......... .......... .......... .......... .......... 24%  304M 0s\n",
      "  2450K .......... .......... .......... .......... .......... 24%  325M 0s\n",
      "  2500K .......... .......... .......... .......... .......... 25%  314M 0s\n",
      "  2550K .......... .......... .......... .......... .......... 25%  345M 0s\n",
      "  2600K .......... .......... .......... .......... .......... 26%  345M 0s\n",
      "  2650K .......... .......... .......... .......... .......... 26%  363M 0s\n",
      "  2700K .......... .......... .......... .......... .......... 27%  308M 0s\n",
      "  2750K .......... .......... .......... .......... .......... 27%  383M 0s\n",
      "  2800K .......... .......... .......... .......... .......... 28%  313M 0s\n",
      "  2850K .......... .......... .......... .......... .......... 28%  241M 0s\n",
      "  2900K .......... .......... .......... .......... .......... 29%  138M 0s\n",
      "  2950K .......... .......... .......... .......... .......... 29%  256M 0s\n",
      "  3000K .......... .......... .......... .......... .......... 30% 57.6M 0s\n",
      "  3050K .......... .......... .......... .......... .......... 30% 24.0M 0s\n",
      "  3100K .......... .......... .......... .......... .......... 31% 27.9M 0s\n",
      "  3150K .......... .......... .......... .......... .......... 31% 40.8M 0s\n",
      "  3200K .......... .......... .......... .......... .......... 32% 42.2M 0s\n",
      "  3250K .......... .......... .......... .......... .......... 32% 41.3M 0s\n",
      "  3300K .......... .......... .......... .......... .......... 33% 52.6M 0s\n",
      "  3350K .......... .......... .......... .......... .......... 33%  207M 0s\n",
      "  3400K .......... .......... .......... .......... .......... 34%  235M 0s\n",
      "  3450K .......... .......... .......... .......... .......... 34%  220M 0s\n",
      "  3500K .......... .......... .......... .......... .......... 35%  208M 0s\n",
      "  3550K .......... .......... .......... .......... .......... 35%  191M 0s\n",
      "  3600K .......... .......... .......... .......... .......... 36%  215M 0s\n",
      "  3650K .......... .......... .......... .......... .......... 36%  238M 0s\n",
      "  3700K .......... .......... .......... .......... .......... 37%  194M 0s\n",
      "  3750K .......... .......... .......... .......... .......... 37%  194M 0s\n",
      "  3800K .......... .......... .......... .......... .......... 38% 52.9M 0s\n",
      "  3850K .......... .......... .......... .......... .......... 38% 39.4M 0s\n",
      "  3900K .......... .......... .......... .......... .......... 39% 34.8M 0s\n",
      "  3950K .......... .......... .......... .......... .......... 39% 38.5M 0s\n",
      "  4000K .......... .......... .......... .......... .......... 40% 38.3M 0s\n",
      "  4050K .......... .......... .......... .......... .......... 40% 33.3M 0s\n",
      "  4100K .......... .......... .......... .......... .......... 40% 30.5M 0s\n",
      "  4150K .......... .......... .......... .......... .......... 41% 67.4M 0s\n",
      "  4200K .......... .......... .......... .......... .......... 41% 73.8M 0s\n",
      "  4250K .......... .......... .......... .......... .......... 42% 59.4M 0s\n",
      "  4300K .......... .......... .......... .......... .......... 42%  102M 0s\n",
      "  4350K .......... .......... .......... .......... .......... 43%  298M 0s\n",
      "  4400K .......... .......... .......... .......... .......... 43%  230M 0s\n",
      "  4450K .......... .......... .......... .......... .......... 44%  292M 0s\n",
      "  4500K .......... .......... .......... .......... .......... 44% 34.5M 0s\n",
      "  4550K .......... .......... .......... .......... .......... 45% 43.7M 0s\n",
      "  4600K .......... .......... .......... .......... .......... 45% 57.7M 0s\n",
      "  4650K .......... .......... .......... .......... .......... 46% 68.8M 0s\n",
      "  4700K .......... .......... .......... .......... .......... 46%  234M 0s\n",
      "  4750K .......... .......... .......... .......... .......... 47%  296M 0s\n",
      "  4800K .......... .......... .......... .......... .......... 47% 52.6M 0s\n",
      "  4850K .......... .......... .......... .......... .......... 48%  121M 0s\n",
      "  4900K .......... .......... .......... .......... .......... 48%  237M 0s\n",
      "  4950K .......... .......... .......... .......... .......... 49%  213M 0s\n",
      "  5000K .......... .......... .......... .......... .......... 49%  235M 0s\n",
      "  5050K .......... .......... .......... .......... .......... 50%  205M 0s\n",
      "  5100K .......... .......... .......... .......... .......... 50%  226M 0s\n",
      "  5150K .......... .......... .......... .......... .......... 51%  214M 0s\n",
      "  5200K .......... .......... .......... .......... .......... 51%  208M 0s\n",
      "  5250K .......... .......... .......... .......... .......... 52%  206M 0s\n",
      "  5300K .......... .......... .......... .......... .......... 52%  194M 0s\n",
      "  5350K .......... .......... .......... .......... .......... 53%  213M 0s\n",
      "  5400K .......... .......... .......... .......... .......... 53% 38.7M 0s\n",
      "  5450K .......... .......... .......... .......... .......... 54% 42.1M 0s\n",
      "  5500K .......... .......... .......... .......... .......... 54% 34.9M 0s\n",
      "  5550K .......... .......... .......... .......... .......... 55% 43.4M 0s\n",
      "  5600K .......... .......... .......... .......... .......... 55% 74.9M 0s\n",
      "  5650K .......... .......... .......... .......... .......... 56% 70.9M 0s\n",
      "  5700K .......... .......... .......... .......... .......... 56% 59.2M 0s\n",
      "  5750K .......... .......... .......... .......... .......... 57% 60.5M 0s\n",
      "  5800K .......... .......... .......... .......... .......... 57% 49.2M 0s\n",
      "  5850K .......... .......... .......... .......... .......... 58% 75.6M 0s\n",
      "  5900K .......... .......... .......... .......... .......... 58% 58.5M 0s\n",
      "  5950K .......... .......... .......... .......... .......... 59%  148M 0s\n",
      "  6000K .......... .......... .......... .......... .......... 59%  349M 0s\n",
      "  6050K .......... .......... .......... .......... .......... 60%  216M 0s\n",
      "  6100K .......... .......... .......... .......... .......... 60%  192M 0s\n",
      "  6150K .......... .......... .......... .......... .......... 61%  189M 0s\n",
      "  6200K .......... .......... .......... .......... .......... 61%  214M 0s\n",
      "  6250K .......... .......... .......... .......... .......... 62%  216M 0s\n",
      "  6300K .......... .......... .......... .......... .......... 62% 72.2M 0s\n",
      "  6350K .......... .......... .......... .......... .......... 63% 35.0M 0s\n",
      "  6400K .......... .......... .......... .......... .......... 63% 41.6M 0s\n",
      "  6450K .......... .......... .......... .......... .......... 64% 47.8M 0s\n",
      "  6500K .......... .......... .......... .......... .......... 64% 62.9M 0s\n",
      "  6550K .......... .......... .......... .......... .......... 65% 74.7M 0s\n",
      "  6600K .......... .......... .......... .......... .......... 65% 71.4M 0s\n",
      "  6650K .......... .......... .......... .......... .......... 66% 70.4M 0s\n",
      "  6700K .......... .......... .......... .......... .......... 66% 64.6M 0s\n",
      "  6750K .......... .......... .......... .......... .......... 67% 68.3M 0s\n",
      "  6800K .......... .......... .......... .......... .......... 67%  160M 0s\n",
      "  6850K .......... .......... .......... .......... .......... 68%  346M 0s\n",
      "  6900K .......... .......... .......... .......... .......... 68%  289M 0s\n",
      "  6950K .......... .......... .......... .......... .......... 69%  321M 0s\n",
      "  7000K .......... .......... .......... .......... .......... 69%  373M 0s\n",
      "  7050K .......... .......... .......... .......... .......... 70%  352M 0s\n",
      "  7100K .......... .......... .......... .......... .......... 70%  252M 0s\n",
      "  7150K .......... .......... .......... .......... .......... 71%  326M 0s\n",
      "  7200K .......... .......... .......... .......... .......... 71%  374M 0s\n",
      "  7250K .......... .......... .......... .......... .......... 72%  365M 0s\n",
      "  7300K .......... .......... .......... .......... .......... 72%  309M 0s\n",
      "  7350K .......... .......... .......... .......... .......... 73%  349M 0s\n",
      "  7400K .......... .......... .......... .......... .......... 73%  356M 0s\n",
      "  7450K .......... .......... .......... .......... .......... 74%  355M 0s\n",
      "  7500K .......... .......... .......... .......... .......... 74%  321M 0s\n",
      "  7550K .......... .......... .......... .......... .......... 75%  353M 0s\n",
      "  7600K .......... .......... .......... .......... .......... 75%  362M 0s\n",
      "  7650K .......... .......... .......... .......... .......... 76%  356M 0s\n",
      "  7700K .......... .......... .......... .......... .......... 76%  311M 0s\n",
      "  7750K .......... .......... .......... .......... .......... 77%  366M 0s\n",
      "  7800K .......... .......... .......... .......... .......... 77%  362M 0s\n",
      "  7850K .......... .......... .......... .......... .......... 78%  365M 0s\n",
      "  7900K .......... .......... .......... .......... .......... 78%  287M 0s\n",
      "  7950K .......... .......... .......... .......... .......... 79%  329M 0s\n",
      "  8000K .......... .......... .......... .......... .......... 79%  370M 0s\n",
      "  8050K .......... .......... .......... .......... .......... 80%  104M 0s\n",
      "  8100K .......... .......... .......... .......... .......... 80% 62.2M 0s\n",
      "  8150K .......... .......... .......... .......... .......... 80% 1.97M 0s\n",
      "  8200K .......... .......... .......... .......... .......... 81% 56.7M 0s\n",
      "  8250K .......... .......... .......... .......... .......... 81% 55.7M 0s\n",
      "  8300K .......... .......... .......... .......... .......... 82% 44.0M 0s\n",
      "  8350K .......... .......... .......... .......... .......... 82% 45.3M 0s\n",
      "  8400K .......... .......... .......... .......... .......... 83% 54.3M 0s\n",
      "  8450K .......... .......... .......... .......... .......... 83% 42.4M 0s\n",
      "  8500K .......... .......... .......... .......... .......... 84%  165M 0s\n",
      "  8550K .......... .......... .......... .......... .......... 84% 83.1M 0s\n",
      "  8600K .......... .......... .......... .......... .......... 85% 37.9M 0s\n",
      "  8650K .......... .......... .......... .......... .......... 85% 68.4M 0s\n",
      "  8700K .......... .......... .......... .......... .......... 86%  213M 0s\n",
      "  8750K .......... .......... .......... .......... .......... 86%  258M 0s\n",
      "  8800K .......... .......... .......... .......... .......... 87%  381M 0s\n",
      "  8850K .......... .......... .......... .......... .......... 87% 41.0M 0s\n",
      "  8900K .......... .......... .......... .......... .......... 88% 44.5M 0s\n",
      "  8950K .......... .......... .......... .......... .......... 88%  192M 0s\n",
      "  9000K .......... .......... .......... .......... .......... 89%  247M 0s\n",
      "  9050K .......... .......... .......... .......... .......... 89%  119M 0s\n",
      "  9100K .......... .......... .......... .......... .......... 90% 29.9M 0s\n",
      "  9150K .......... .......... .......... .......... .......... 90% 33.0M 0s\n",
      "  9200K .......... .......... .......... .......... .......... 91% 85.2M 0s\n",
      "  9250K .......... .......... .......... .......... .......... 91%  290M 0s\n",
      "  9300K .......... .......... .......... .......... .......... 92%  381M 0s\n",
      "  9350K .......... .......... .......... .......... .......... 92%  327M 0s\n",
      "  9400K .......... .......... .......... .......... .......... 93%  383M 0s\n",
      "  9450K .......... .......... .......... .......... .......... 93%  368M 0s\n",
      "  9500K .......... .......... .......... .......... .......... 94%  357M 0s\n",
      "  9550K .......... .......... .......... .......... .......... 94%  319M 0s\n",
      "  9600K .......... .......... .......... .......... .......... 95%  368M 0s\n",
      "  9650K .......... .......... .......... .......... .......... 95%  368M 0s\n",
      "  9700K .......... .......... .......... .......... .......... 96%  387M 0s\n",
      "  9750K .......... .......... .......... .......... .......... 96%  321M 0s\n",
      "  9800K .......... .......... .......... .......... .......... 97%  367M 0s\n",
      "  9850K .......... .......... .......... .......... .......... 97%  382M 0s\n",
      "  9900K .......... .......... .......... .......... .......... 98% 96.2M 0s\n",
      "  9950K .......... .......... .......... .......... .......... 98% 65.7M 0s\n",
      " 10000K .......... .......... .......... .......... .......... 99% 71.0M 0s\n",
      " 10050K .......... .......... .......... .......... .......... 99% 75.5M 0s\n",
      " 10100K .......... .......... ....                            100% 72.6M=0.2s\n",
      "\n",
      "2020-08-09 15:43:51 (65.6 MB/s) - ‘./pw-data/201701scripts_sample.json.gz’ saved [10367709/10367709]\n",
      "\n",
      "--2020-08-09 15:43:51--  http://dataincubator-wqu.s3.amazonaws.com/pwdata/practices.json.gz\n",
      "Resolving dataincubator-wqu.s3.amazonaws.com (dataincubator-wqu.s3.amazonaws.com)... 52.216.84.115\n",
      "Connecting to dataincubator-wqu.s3.amazonaws.com (dataincubator-wqu.s3.amazonaws.com)|52.216.84.115|:80... connected.\n",
      "HTTP request sent, awaiting response... 200 OK\n",
      "Length: 402461 (393K) [application/json]\n",
      "Saving to: ‘./pw-data/practices.json.gz’\n",
      "\n",
      "     0K .......... .......... .......... .......... .......... 12% 28.2M 0s\n",
      "    50K .......... .......... .......... .......... .......... 25% 29.5M 0s\n",
      "   100K .......... .......... .......... .......... .......... 38% 21.3M 0s\n",
      "   150K .......... .......... .......... .......... .......... 50% 46.9M 0s\n",
      "   200K .......... .......... .......... .......... .......... 63% 33.5M 0s\n",
      "   250K .......... .......... .......... .......... .......... 76% 51.1M 0s\n",
      "   300K .......... .......... .......... .......... .......... 89% 50.7M 0s\n",
      "   350K .......... .......... .......... .......... ...       100% 52.7M=0.01s\n",
      "\n",
      "2020-08-09 15:43:51 (35.2 MB/s) - ‘./pw-data/practices.json.gz’ saved [402461/402461]\n",
      "\n"
     ]
    }
   ],
   "source": [
    "%%bash\n",
    "mkdir pw-data\n",
    "wget http://dataincubator-wqu.s3.amazonaws.com/pwdata/201701scripts_sample.json.gz -nc -P ./pw-data\n",
    "wget http://dataincubator-wqu.s3.amazonaws.com/pwdata/practices.json.gz -nc -P ./pw-data"
   ]
  },
  {
   "cell_type": "markdown",
   "metadata": {},
   "source": [
    "## Loading the data\n",
    "\n",
    "The first step of the project is to read in the data. We will discuss reading and writing various kinds of files later in the course, but the code below should get you started."
   ]
  },
  {
   "cell_type": "code",
   "execution_count": 5,
   "metadata": {},
   "outputs": [],
   "source": [
    "import gzip\n",
    "import simplejson as json"
   ]
  },
  {
   "cell_type": "code",
   "execution_count": 6,
   "metadata": {},
   "outputs": [],
   "source": [
    "with gzip.open('./pw-data/201701scripts_sample.json.gz', 'rb') as f:\n",
    "    scripts = json.load(f)\n",
    "\n",
    "with gzip.open('./pw-data/practices.json.gz', 'rb') as f:\n",
    "    practices = json.load(f)"
   ]
  },
  {
   "cell_type": "markdown",
   "metadata": {},
   "source": [
    "This data set comes from Britain's National Health Service. The `scripts` variable is a list of prescriptions issued by NHS doctors. Each prescription is represented by a dictionary with various data fields: `'practice'`, `'bnf_code'`, `'bnf_name'`, `'quantity'`, `'items'`, `'nic'`, and `'act_cost'`. "
   ]
  },
  {
   "cell_type": "code",
   "execution_count": 23,
   "metadata": {},
   "outputs": [
    {
     "data": {
      "text/plain": [
       "[{'bnf_code': '0101010G0AAABAB',\n",
       "  'items': 2,\n",
       "  'practice': 'N81013',\n",
       "  'bnf_name': 'Co-Magaldrox_Susp 195mg/220mg/5ml S/F',\n",
       "  'nic': 5.98,\n",
       "  'act_cost': 5.56,\n",
       "  'quantity': 1000},\n",
       " {'bnf_code': '0101021B0AAAHAH',\n",
       "  'items': 1,\n",
       "  'practice': 'N81013',\n",
       "  'bnf_name': 'Alginate_Raft-Forming Oral Susp S/F',\n",
       "  'nic': 1.95,\n",
       "  'act_cost': 1.82,\n",
       "  'quantity': 500}]"
      ]
     },
     "execution_count": 23,
     "metadata": {},
     "output_type": "execute_result"
    }
   ],
   "source": [
    "scripts[:2]\n"
   ]
  },
  {
   "cell_type": "markdown",
   "metadata": {},
   "source": [
    "A [glossary of terms](http://webarchive.nationalarchives.gov.uk/20180328130852tf_/http://content.digital.nhs.uk/media/10686/Download-glossary-of-terms-for-GP-prescribing---presentation-level/pdf/PLP_Presentation_Level_Glossary_April_2015.pdf/) and [FAQ](http://webarchive.nationalarchives.gov.uk/20180328130852tf_/http://content.digital.nhs.uk/media/10048/FAQs-Practice-Level-Prescribingpdf/pdf/PLP_FAQs_April_2015.pdf/) is available from the NHS regarding the data. Below we supply a data dictionary briefly describing what these fields mean.\n",
    "\n",
    "| Data field |Description|\n",
    "|:----------:|-----------|\n",
    "|`'practice'`|Code designating the medical practice issuing the prescription|\n",
    "|`'bnf_code'`|British National Formulary drug code|\n",
    "|`'bnf_name'`|British National Formulary drug name|\n",
    "|`'quantity'`|Number of capsules/quantity of liquid/grams of powder prescribed|\n",
    "| `'items'`  |Number of refills (e.g. if `'quantity'` is 30 capsules, 3 `'items'` means 3 bottles of 30 capsules)|\n",
    "|  `'nic'`   |Net ingredient cost|\n",
    "|`'act_cost'`|Total cost including containers, fees, and discounts|"
   ]
  },
  {
   "cell_type": "markdown",
   "metadata": {},
   "source": [
    "The `practices` variable is a list of member medical practices of the NHS. Each practice is represented by a dictionary containing identifying information for the medical practice. Most of the data fields are self-explanatory. Notice the values in the `'code'` field of `practices` match the values in the `'practice'` field of `scripts`."
   ]
  },
  {
   "cell_type": "code",
   "execution_count": 8,
   "metadata": {},
   "outputs": [
    {
     "data": {
      "text/plain": [
       "[{'code': 'A81001',\n",
       "  'name': 'THE DENSHAM SURGERY',\n",
       "  'addr_1': 'THE HEALTH CENTRE',\n",
       "  'addr_2': 'LAWSON STREET',\n",
       "  'borough': 'STOCKTON ON TEES',\n",
       "  'village': 'CLEVELAND',\n",
       "  'post_code': 'TS18 1HU'},\n",
       " {'code': 'A81002',\n",
       "  'name': 'QUEENS PARK MEDICAL CENTRE',\n",
       "  'addr_1': 'QUEENS PARK MEDICAL CTR',\n",
       "  'addr_2': 'FARRER STREET',\n",
       "  'borough': 'STOCKTON ON TEES',\n",
       "  'village': 'CLEVELAND',\n",
       "  'post_code': 'TS18 2AW'}]"
      ]
     },
     "execution_count": 8,
     "metadata": {},
     "output_type": "execute_result"
    }
   ],
   "source": [
    "practices[:2]"
   ]
  },
  {
   "cell_type": "markdown",
   "metadata": {},
   "source": [
    "In the following questions we will ask you to explore this data set. You may need to combine pieces of the data set together in order to answer some questions. Not every element of the data set will be used in answering the questions."
   ]
  },
  {
   "cell_type": "markdown",
   "metadata": {},
   "source": [
    "## Question 1: summary_statistics\n",
    "\n",
    "Our beneficiary data (`scripts`) contains quantitative data on the number of items dispensed (`'items'`), the total quantity of item dispensed (`'quantity'`), the net cost of the ingredients (`'nic'`), and the actual cost to the patient (`'act_cost'`). Whenever working with a new data set, it can be useful to calculate summary statistics to develop a feeling for the volume and character of the data. This makes it easier to spot trends and significant features during further stages of analysis.\n",
    "\n",
    "Calculate the sum, mean, standard deviation, and quartile statistics for each of these quantities. Format your results for each quantity as a list: `[sum, mean, standard deviation, 1st quartile, median, 3rd quartile]`. We'll create a `tuple` with these lists for each quantity as a final result."
   ]
  },
  {
   "cell_type": "code",
   "execution_count": 19,
   "metadata": {},
   "outputs": [],
   "source": [
    "\n",
    "def describe(key):\n",
    "    N = len(scripts)\n",
    "    total = sum([script[key] for script in scripts])\n",
    "    avg = total/N\n",
    "    \n",
    "    vals = sorted([script[key] for script in scripts]) \n",
    "    s = (sum([(script[key] - avg)**2 for script in scripts])/N - 1)**0.5\n",
    "    \n",
    "    first_quart = vals[(N+1)//4]\n",
    "    second_quart = vals[(N+1)//2]\n",
    "    third_quart = vals[(N+1)*3//4]\n",
    "\n",
    "    return (total, avg, s, first_quart, second_quart, third_quart)"
   ]
  },
  {
   "cell_type": "code",
   "execution_count": 20,
   "metadata": {},
   "outputs": [],
   "source": [
    "summary = [('items', describe('items')),\n",
    "           ('quantity', describe('quantity')),\n",
    "           ('nic', describe('nic')),\n",
    "           ('act_cost', describe('act_cost'))]"
   ]
  },
  {
   "cell_type": "code",
   "execution_count": 21,
   "metadata": {},
   "outputs": [
    {
     "name": "stdout",
     "output_type": "stream",
     "text": [
      "==================\n",
      "Your score:  1.0\n",
      "==================\n"
     ]
    }
   ],
   "source": [
    "grader.score.pw__summary_statistics(summary)"
   ]
  },
  {
   "cell_type": "markdown",
   "metadata": {},
   "source": [
    "## Question 2: most_common_item\n",
    "\n",
    "Often we are not interested only in how the data is distributed in our entire data set, but within particular groups -- for example, how many items of each drug (i.e. `'bnf_name'`) were prescribed? Calculate the total items prescribed for each `'bnf_name'`. What is the most commonly prescribed `'bnf_name'` in our data?\n",
    "\n",
    "To calculate this, we first need to split our data set into groups corresponding with the different values of `'bnf_name'`. Then we can sum the number of items dispensed within in each group. Finally we can find the largest sum.\n",
    "\n",
    "We'll use `'bnf_name'` to construct our groups. You should have *5619* unique values for `'bnf_name'`."
   ]
  },
  {
   "cell_type": "code",
   "execution_count": 24,
   "metadata": {},
   "outputs": [],
   "source": [
    "bnf_names = set([scripts[i]['bnf_name'] for i in range(len(scripts))])\n",
    "assert(len(bnf_names) == 5619)"
   ]
  },
  {
   "cell_type": "markdown",
   "metadata": {},
   "source": [
    "We want to construct \"groups\" identified by `'bnf_name'`, where each group is a collection of prescriptions (i.e. dictionaries from `scripts`). We'll construct a dictionary called `groups`, using `bnf_names` as the keys. We'll represent a group with a `list`, since we can easily append new members to the group. To split our `scripts` into groups by `'bnf_name'`, we should iterate over `scripts`, appending prescription dictionaries to each group as we encounter them."
   ]
  },
  {
   "cell_type": "code",
   "execution_count": 25,
   "metadata": {},
   "outputs": [],
   "source": [
    "groups = {name: 0 for name in bnf_names}\n",
    "for script in scripts:\n",
    "    k = int(script['items'])\n",
    "    groups[script['bnf_name']] += k"
   ]
  },
  {
   "cell_type": "code",
   "execution_count": 28,
   "metadata": {},
   "outputs": [
    {
     "data": {
      "text/plain": [
       "'Omeprazole_Cap E/C 20mg'"
      ]
     },
     "execution_count": 28,
     "metadata": {},
     "output_type": "execute_result"
    }
   ],
   "source": [
    "max(groups, key=groups.get)"
   ]
  },
  {
   "cell_type": "code",
   "execution_count": 32,
   "metadata": {},
   "outputs": [
    {
     "data": {
      "text/plain": [
       "113826"
      ]
     },
     "execution_count": 32,
     "metadata": {},
     "output_type": "execute_result"
    }
   ],
   "source": [
    "groups['Omeprazole_Cap E/C 20mg']"
   ]
  },
  {
   "cell_type": "markdown",
   "metadata": {},
   "source": [
    "Now that we've constructed our groups we should sum up `'items'` in each group and find the `'bnf_name'` with the largest sum. The result, `max_item`, should have the form `[(bnf_name, item total)]`, e.g. `[('Foobar', 2000)]`."
   ]
  },
  {
   "cell_type": "code",
   "execution_count": 33,
   "metadata": {},
   "outputs": [],
   "source": [
    "max_item = [(\"Omeprazole_Cap E/C 20mg\", 113826)]"
   ]
  },
  {
   "cell_type": "markdown",
   "metadata": {},
   "source": [
    "**TIP:** If you are getting an error from the grader below, please make sure your answer conforms to the correct format of `[(bnf_name, item total)]`."
   ]
  },
  {
   "cell_type": "code",
   "execution_count": 34,
   "metadata": {},
   "outputs": [
    {
     "name": "stdout",
     "output_type": "stream",
     "text": [
      "==================\n",
      "Your score:  1.0\n",
      "==================\n"
     ]
    }
   ],
   "source": [
    "grader.score.pw__most_common_item(max_item)"
   ]
  },
  {
   "cell_type": "markdown",
   "metadata": {},
   "source": [
    "**Challenge:** Write a function that constructs groups as we did above. The function should accept a list of dictionaries (e.g. `scripts` or `practices`) and a tuple of fields to `groupby` (e.g. `('bnf_name')` or `('bnf_name', 'post_code')`) and returns a dictionary of groups. The following questions will require you to aggregate data in groups, so this could be a useful function for the rest of the miniproject."
   ]
  },
  {
   "cell_type": "code",
   "execution_count": 47,
   "metadata": {},
   "outputs": [],
   "source": [
    "def group_by_field(data, fields):\n",
    "    tuple_list = {tuple(i[j] for j in fields) for i in data}\n",
    "    groups = {i:[] for i in tuple_list}\n",
    "    for i in data:\n",
    "        temp_tuple_name = tuple(i[j] for j in fields)\n",
    "        groups[temp_tuple_name].append(i)\n",
    "    return groups"
   ]
  },
  {
   "cell_type": "code",
   "execution_count": 48,
   "metadata": {},
   "outputs": [],
   "source": [
    "groups = group_by_field(scripts, ('bnf_name',))"
   ]
  },
  {
   "cell_type": "code",
   "execution_count": 49,
   "metadata": {},
   "outputs": [
    {
     "ename": "TypeError",
     "evalue": "'>' not supported between instances of 'dict' and 'dict'",
     "output_type": "error",
     "traceback": [
      "\u001b[0;31m---------------------------------------------------------------------------\u001b[0m",
      "\u001b[0;31mTypeError\u001b[0m                                 Traceback (most recent call last)",
      "\u001b[0;32m<ipython-input-49-230a82c9e8d4>\u001b[0m in \u001b[0;36m<module>\u001b[0;34m()\u001b[0m\n\u001b[0;32m----> 1\u001b[0;31m \u001b[0mmax\u001b[0m\u001b[0;34m(\u001b[0m\u001b[0mgroups\u001b[0m\u001b[0;34m,\u001b[0m \u001b[0mkey\u001b[0m\u001b[0;34m=\u001b[0m\u001b[0mgroups\u001b[0m\u001b[0;34m.\u001b[0m\u001b[0mget\u001b[0m\u001b[0;34m)\u001b[0m\u001b[0;34m\u001b[0m\u001b[0;34m\u001b[0m\u001b[0m\n\u001b[0m",
      "\u001b[0;31mTypeError\u001b[0m: '>' not supported between instances of 'dict' and 'dict'"
     ]
    }
   ],
   "source": [
    "max(groups, key=groups.get))"
   ]
  },
  {
   "cell_type": "code",
   "execution_count": null,
   "metadata": {},
   "outputs": [],
   "source": [
    "#groups[max(groups, key=groups.get)])\n",
    "#test_max_item = []\n",
    "\n",
    "#assert test_max_item == max_item"
   ]
  },
  {
   "cell_type": "markdown",
   "metadata": {},
   "source": [
    "## Question 3: postal_totals\n",
    "\n",
    "Our data set is broken up among different files. This is typical for tabular data to reduce redundancy. Each table typically contains data about a particular type of event, processes, or physical object. Data on prescriptions and medical practices are in separate files in our case. If we want to find the total items prescribed in each postal code, we will have to _join_ our prescription data (`scripts`) to our clinic data (`practices`).\n",
    "\n",
    "Find the total items prescribed in each postal code, representing the results as a list of tuples `(post code, total items prescribed)`. Sort your results ascending alphabetically by post code and take only results from the first 100 post codes. Only include post codes if there is at least one prescription from a practice in that post code.\n",
    "\n",
    "**NOTE:** Some practices have multiple postal codes associated with them. Use the alphabetically first postal code."
   ]
  },
  {
   "cell_type": "markdown",
   "metadata": {},
   "source": [
    "We can join `scripts` and `practices` based on the fact that `'practice'` in `scripts` matches `'code'` in `practices`. However, we must first deal with the repeated values of `'code'` in `practices`. We want the alphabetically first postal codes."
   ]
  },
  {
   "cell_type": "code",
   "execution_count": 50,
   "metadata": {},
   "outputs": [],
   "source": [
    "code_data = group_by_field(practices, ('code',))\n",
    "practice_postal= {i[0] : min([j['post_code'] for j in code_data[i]]) for i in list(code_data.keys())}"
   ]
  },
  {
   "cell_type": "markdown",
   "metadata": {},
   "source": [
    "**Challenge:** This is an aggregation of the practice data grouped by practice codes. Write an alternative implementation of the above cell using the `group_by_field` function you defined previously."
   ]
  },
  {
   "cell_type": "code",
   "execution_count": 51,
   "metadata": {},
   "outputs": [],
   "source": [
    "assert practice_postal['K82019'] == 'HP21 8TR'"
   ]
  },
  {
   "cell_type": "markdown",
   "metadata": {},
   "source": [
    "Now we can join `practice_postal` to `scripts`."
   ]
  },
  {
   "cell_type": "code",
   "execution_count": 53,
   "metadata": {},
   "outputs": [],
   "source": [
    "joined = {}\n",
    "joined = scripts[:]\n",
    "for script in joined:\n",
    "    script['post_code'] = practice_postal[script['practice']]"
   ]
  },
  {
   "cell_type": "markdown",
   "metadata": {},
   "source": [
    "Finally we'll group the prescription dictionaries in `joined` by `'post_code'` and sum up the items prescribed in each group, as we did in the previous question."
   ]
  },
  {
   "cell_type": "code",
   "execution_count": 54,
   "metadata": {},
   "outputs": [],
   "source": [
    "items_by_post = group_by_field(joined, ('post_code',))"
   ]
  },
  {
   "cell_type": "code",
   "execution_count": 55,
   "metadata": {},
   "outputs": [
    {
     "name": "stdout",
     "output_type": "stream",
     "text": [
      "==================\n",
      "Your score:  1.0\n",
      "==================\n"
     ]
    }
   ],
   "source": [
    "sum_postal = [tuple(list(i)+[sum([j['items'] for j in items_by_post[i]])]) for i in items_by_post]\n",
    "sum_postal.sort(key = lambda x: x[0])\n",
    "\n",
    "postal_totals = sum_postal[:100]\n",
    "\n",
    "grader.score.pw__postal_totals(postal_totals)"
   ]
  },
  {
   "cell_type": "markdown",
   "metadata": {},
   "source": [
    "## Question 4: items_by_region\n",
    "\n",
    "Now we'll combine the techniques we've developed to answer a more complex question. Find the most commonly dispensed item in each postal code, representing the results as a list of tuples (`post_code`, `bnf_name`, amount dispensed as proportion of total). Sort your results ascending alphabetically by post code and take only results from the first 100 post codes.\n",
    "\n",
    "**NOTE:** We'll continue to use the `joined` variable we created before, where we've chosen the alphabetically first postal code for each practice. Additionally, some postal codes will have multiple `'bnf_name'` with the same number of items prescribed for the maximum. In this case, we'll take the alphabetically first `'bnf_name'`."
   ]
  },
  {
   "cell_type": "markdown",
   "metadata": {},
   "source": [
    "Now we need to calculate the total items of each `'bnf_name'` prescribed in each `'post_code'`. Use the techniques we developed in the previous questions to calculate these totals. You should have 141196 `('post_code', 'bnf_name')` groups."
   ]
  },
  {
   "cell_type": "code",
   "execution_count": 64,
   "metadata": {},
   "outputs": [],
   "source": [
    "bnf = group_by_field(joined, ('post_code','bnf_name',))\n",
    "total_items_by_bnf_post = {tuple([b[0], b[1]]): sum([i['items'] for i in bnf[b]]) for b in list(bnf.keys())}\n",
    "assert len(total_items_by_bnf_post) == 141196"
   ]
  },
  {
   "cell_type": "markdown",
   "metadata": {},
   "source": [
    "Let's use `total_items` to find the maximum item total for each postal code. To do this, we will want to regroup `total_items_by_bnf_post` by `'post_code'` only, not by `('post_code', 'bnf_name')`. First let's turn `total_items` into a list of dictionaries (similar to `scripts` or `practices`) and then group it by `'post_code'`. You should have 118 groups in the resulting `total_items_by_post` after grouping `total_items` by `'post_code'`."
   ]
  },
  {
   "cell_type": "code",
   "execution_count": 65,
   "metadata": {},
   "outputs": [],
   "source": [
    "total_items = group_by_field(joined, ('post_code',))\n",
    "total_items_by_post = {i[0]:sum(j['items'] for j in total_items[i]) for i in list(total_items)}\n",
    "assert len(total_items_by_post) == 118"
   ]
  },
  {
   "cell_type": "markdown",
   "metadata": {},
   "source": [
    "Now we will aggregate the groups in `total_by_item_post` to create `max_item_by_post`. Some `'bnf_name'` have the same item total within a given postal code. Therefore, if more than one `'bnf_name'` has the maximum item total in a given postal code, we'll take the alphabetically first `'bnf_name'`. We can do this by [sorting](https://docs.python.org/2.7/howto/sorting.html) each group according to the item total and `'bnf_name'`."
   ]
  },
  {
   "cell_type": "code",
   "execution_count": 66,
   "metadata": {},
   "outputs": [],
   "source": [
    "sort_dict = {i[0]: [] for i in total_items_by_bnf_post}\n",
    "for i,j in total_items_by_bnf_post.items():\n",
    "    sort_dict[i[0]].append(tuple([i[1], j]))\n",
    "\n",
    "for i, j in sort_dict.items():\n",
    "    j.sort(key = lambda x: x[1])"
   ]
  },
  {
   "cell_type": "code",
   "execution_count": 67,
   "metadata": {},
   "outputs": [],
   "source": [
    "new_sort_dict = {post_code: [] for post_code in sort_dict}\n",
    "for post_code, bnf_items in sort_dict.items():\n",
    "    alphabetically_sorted = sorted(bnf_items)\n",
    "    top_value_sorted = sorted(alphabetically_sorted, key=lambda x: x[1], reverse = True)\n",
    "\n",
    "    new_sort_dict[post_code].append(top_value_sorted[0])"
   ]
  },
  {
   "cell_type": "code",
   "execution_count": 69,
   "metadata": {},
   "outputs": [],
   "source": [
    "for i, j in total_items_by_post.items():\n",
    "    new_sort_dict[i].append(j)\n",
    "\n",
    "sorted_tuple = []\n",
    "for i,j in new_sort_dict.items():\n",
    "    for x in j:\n",
    "        if type(x) != int:\n",
    "            sorted_tuple.append(tuple([i, x[0], x[1]/j[-1]])) "
   ]
  },
  {
   "cell_type": "markdown",
   "metadata": {},
   "source": [
    "In order to express the item totals as a proportion of the total amount of items prescribed across all `'bnf_name'` in a postal code, we'll need to use the total items prescribed that we previously calculated as `items_by_post`. Calculate the proportions for the most common `'bnf_names'` for each postal code. Format your answer as a list of tuples: `[(post_code, bnf_name, total)]`"
   ]
  },
  {
   "cell_type": "code",
   "execution_count": 70,
   "metadata": {},
   "outputs": [],
   "source": [
    "items_by_region = sorted(sorted_tuple)[:100]"
   ]
  },
  {
   "cell_type": "code",
   "execution_count": 71,
   "metadata": {},
   "outputs": [
    {
     "name": "stdout",
     "output_type": "stream",
     "text": [
      "==================\n",
      "Your score:  1.0\n",
      "==================\n"
     ]
    }
   ],
   "source": [
    "grader.score.pw__items_by_region(items_by_region)"
   ]
  },
  {
   "cell_type": "code",
   "execution_count": null,
   "metadata": {},
   "outputs": [],
   "source": []
  },
  {
   "cell_type": "code",
   "execution_count": null,
   "metadata": {},
   "outputs": [],
   "source": []
  },
  {
   "cell_type": "markdown",
   "metadata": {},
   "source": [
    "*Copyright &copy; 2020 The Data Incubator.  All rights reserved.*"
   ]
  }
 ],
 "metadata": {
  "kernelspec": {
   "display_name": "Python 3",
   "language": "python",
   "name": "python3"
  },
  "language_info": {
   "codemirror_mode": {
    "name": "ipython",
    "version": 3
   },
   "file_extension": ".py",
   "mimetype": "text/x-python",
   "name": "python",
   "nbconvert_exporter": "python",
   "pygments_lexer": "ipython3",
   "version": "3.7.3"
  },
  "nbclean": true
 },
 "nbformat": 4,
 "nbformat_minor": 1
}
